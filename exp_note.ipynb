{
 "cells": [
  {
   "cell_type": "markdown",
   "metadata": {
    "id": "bVbHQbDDjw9i"
   },
   "source": [
    "## ДЗ 1 (ОБЯЗАТЕЛЬНОЕ): Анализ температурных данных и мониторинг текущей температуры через OpenWeatherMap API\n",
    "\n",
    "**Описание задания:**  \n",
    "Вы аналитик в компании, занимающейся изучением климатических изменений и мониторингом температур в разных городах. Вам нужно провести анализ исторических данных о температуре для выявления сезонных закономерностей и аномалий. Также необходимо подключить API OpenWeatherMap для получения текущей температуры в выбранных городах и сравнить её с историческими данными.\n",
    "\n",
    "\n",
    "### Цели задания:\n",
    "1. Провести **анализ временных рядов**, включая:\n",
    "   - Вычисление скользящего среднего и стандартного отклонения для сглаживания температурных колебаний.\n",
    "   - Определение аномалий на основе отклонений температуры от $ \\text{скользящее среднее} \\pm 2\\sigma $.\n",
    "   - Построение долгосрочных трендов изменения температуры.\n",
    "   - Любые дополнительные исследования будут вам в плюс.\n",
    "\n",
    "2. Осуществить **мониторинг текущей температуры**:\n",
    "   - Получить текущую температуру через OpenWeatherMap API.\n",
    "   - Сравнить её с историческим нормальным диапазоном для текущего сезона.\n",
    "\n",
    "3. Разработать **интерактивное приложение**:\n",
    "   - Дать пользователю возможность выбрать город.\n",
    "   - Отобразить результаты анализа температур, включая временные ряды, сезонные профили и аномалии.\n",
    "   - Провести анализ текущей температуры в контексте исторических данных.\n",
    "\n",
    "\n",
    "### Описание данных\n",
    "Исторические данные о температуре содержатся в файле `temperature_data.csv`, включают:\n",
    "  - `city`: Название города.\n",
    "  - `timestamp`: Дата (с шагом в 1 день).\n",
    "  - `temperature`: Среднесуточная температура (в °C).\n",
    "  - `season`: Сезон года (зима, весна, лето, осень).\n",
    "\n",
    "Код для генерации файла вы найдете ниже.\n",
    "\n",
    "### Этапы выполнения\n",
    "\n",
    "1. **Анализ исторических данных**:\n",
    "   - Вычислить **скользящее среднее** температуры с окном в 30 дней для сглаживания краткосрочных колебаний.\n",
    "   - Рассчитать среднюю температуру и стандартное отклонение для каждого сезона в каждом городе.\n",
    "   - Выявить аномалии, где температура выходит за пределы $ \\text{среднее} \\pm 2\\sigma $.\n",
    "   - Попробуйте распараллелить проведение этого анализа. Сравните скорость выполнения анализа с распараллеливанием и без него.\n",
    "\n",
    "2. **Мониторинг текущей температуры**:\n",
    "   - Подключить OpenWeatherMap API для получения текущей температуры города. Для получения API Key (бесплатно) надо зарегистрироваться на сайте. Обратите внимание, что API Key может активироваться только через 2-3 часа, это нормально. Посему получите ключ заранее.\n",
    "   - Получить текущую температуру для выбранного города через OpenWeatherMap API.\n",
    "   - Определить, является ли текущая температура нормальной, исходя из исторических данных для текущего сезона.\n",
    "   - Данные на самом деле не совсем реальные (сюрпрайз). Поэтому на момент эксперимента погода в Берлине, Каире и Дубае была в рамках нормы, а в Пекине и Москве аномальная. Протестируйте свое решение для разных городов.\n",
    "   - Попробуйте для получения текущей температуры использовать синхронные и асинхронные методы. Что здесь лучше использовать?\n",
    "\n",
    "3. **Создание приложения на Streamlit**:\n",
    "   - Добавить интерфейс для загрузки файла с историческими данными.\n",
    "   - Добавить интерфейс для выбора города (из выпадающего списка).\n",
    "   - Добавить форму для ввода API-ключа OpenWeatherMap. Когда он не введен, данные для текущей погоды не показываются. Если ключ некорректный, выведите на экран ошибку (должно приходить `{\"cod\":401, \"message\": \"Invalid API key. Please see https://openweathermap.org/faq#error401 for more info.\"}`).\n",
    "   - Отобразить:\n",
    "     - Описательную статистику по историческим данным для города, можно добавить визуализации.\n",
    "     - Временной ряд температур с выделением аномалий (например, точками другого цвета).\n",
    "     - Сезонные профили с указанием среднего и стандартного отклонения.\n",
    "   - Вывести текущую температуру через API и указать, нормальна ли она для сезона.\n",
    "\n",
    "### Критерии оценивания\n",
    "\n",
    "- Корректное проведение анализа данных – 1 балл.\n",
    "- Исследование распараллеливания анализа – 1 балл.\n",
    "- Корректный поиск аномалий – 1 балл.\n",
    "- Подключение к API и корректность выполнения запроса – 1 балл.\n",
    "- Проведение эксперимента с синхронным и асинхронным способом запроса к API – 1 балл.\n",
    "- Создание интерфейса приложения streamlit в соответствии с описанием – 3 балла.\n",
    "- Корректное отображение графиков и статистик, а также сезонных профилей – 1 балл.\n",
    "- Корректный вывод текущей температуры в выбранном городе и проведение проверки на ее аномальность – 1 балл.\n",
    "- Любая дополнительная функциональность приветствуется и оценивается бонусными баллами (не более 2 в сумме) на усмотрение проверяющего.\n",
    "\n",
    "### Формат сдачи домашнего задания\n",
    "\n",
    "Решение нужно развернуть в Streamlit Cloud (бесплатно)\n",
    "\n",
    "*   Создаем новый репозиторий на GitHub.  \n",
    "*   Загружаем проект.\n",
    "*   Создаем аккаунт в [Streamlit Cloud](https://streamlit.io/cloud).\n",
    "*   Авторизуемся в Streamlit Cloud.\n",
    "*   Создаем новое приложение в Streamlit Cloud и подключаем GitHub-репозиторий.\n",
    "*   Deploy!\n",
    "\n",
    "Сдать в форму необходимо:\n",
    "1. Ссылку на развернутое в Streamlit Cloud приложение.\n",
    "2. Ссылку на код. Все выводы про, например, использование параллельности/асинхронности опишите в комментариях.\n",
    "\n",
    "Не забудьте удалить ключ API и иную чувствительную информацию.\n",
    "\n",
    "### Полезные ссылки\n",
    "*   [Оформление задачи Титаник на Streamlit](https://github.com/evgpat/streamlit_demo)\n",
    "*   [Документация Streamlit](https://docs.streamlit.io/)\n",
    "*   [Блог о Streamlit](https://blog.streamlit.io/)"
   ]
  },
  {
   "cell_type": "code",
   "metadata": {
    "id": "SsrwTMhRj6dK",
    "ExecuteTime": {
     "end_time": "2024-12-22T15:31:51.884098Z",
     "start_time": "2024-12-22T15:31:49.441189Z"
    }
   },
   "source": [
    "import pandas as pd\n",
    "import numpy as np\n",
    "\n",
    "# Реальные средние температуры (примерные данные) для городов по сезонам\n",
    "seasonal_temperatures = {\n",
    "    \"New York\": {\"winter\": 0, \"spring\": 10, \"summer\": 25, \"autumn\": 15},\n",
    "    \"London\": {\"winter\": 5, \"spring\": 11, \"summer\": 18, \"autumn\": 12},\n",
    "    \"Paris\": {\"winter\": 4, \"spring\": 12, \"summer\": 20, \"autumn\": 13},\n",
    "    \"Tokyo\": {\"winter\": 6, \"spring\": 15, \"summer\": 27, \"autumn\": 18},\n",
    "    \"Moscow\": {\"winter\": -10, \"spring\": 5, \"summer\": 18, \"autumn\": 8},\n",
    "    \"Sydney\": {\"winter\": 12, \"spring\": 18, \"summer\": 25, \"autumn\": 20},\n",
    "    \"Berlin\": {\"winter\": 0, \"spring\": 10, \"summer\": 20, \"autumn\": 11},\n",
    "    \"Beijing\": {\"winter\": -2, \"spring\": 13, \"summer\": 27, \"autumn\": 16},\n",
    "    \"Rio de Janeiro\": {\"winter\": 20, \"spring\": 25, \"summer\": 30, \"autumn\": 25},\n",
    "    \"Dubai\": {\"winter\": 20, \"spring\": 30, \"summer\": 40, \"autumn\": 30},\n",
    "    \"Los Angeles\": {\"winter\": 15, \"spring\": 18, \"summer\": 25, \"autumn\": 20},\n",
    "    \"Singapore\": {\"winter\": 27, \"spring\": 28, \"summer\": 28, \"autumn\": 27},\n",
    "    \"Mumbai\": {\"winter\": 25, \"spring\": 30, \"summer\": 35, \"autumn\": 30},\n",
    "    \"Cairo\": {\"winter\": 15, \"spring\": 25, \"summer\": 35, \"autumn\": 25},\n",
    "    \"Mexico City\": {\"winter\": 12, \"spring\": 18, \"summer\": 20, \"autumn\": 15},\n",
    "}\n",
    "\n",
    "# Сопоставление месяцев с сезонами\n",
    "month_to_season = {\n",
    "    12: \"winter\",\n",
    "    1: \"winter\",\n",
    "    2: \"winter\",\n",
    "    3: \"spring\",\n",
    "    4: \"spring\",\n",
    "    5: \"spring\",\n",
    "    6: \"summer\",\n",
    "    7: \"summer\",\n",
    "    8: \"summer\",\n",
    "    9: \"autumn\",\n",
    "    10: \"autumn\",\n",
    "    11: \"autumn\",\n",
    "}\n",
    "\n",
    "\n",
    "# Генерация данных о температуре\n",
    "def generate_realistic_temperature_data(cities, num_years=10):\n",
    "    dates = pd.date_range(start=\"2010-01-01\", periods=365 * num_years, freq=\"D\")\n",
    "    data = []\n",
    "\n",
    "    for city in cities:\n",
    "        for date in dates:\n",
    "            season = month_to_season[date.month]\n",
    "            mean_temp = seasonal_temperatures[city][season]\n",
    "            # Добавляем случайное отклонение\n",
    "            temperature = np.random.normal(loc=mean_temp, scale=5)\n",
    "            data.append({\"city\": city, \"timestamp\": date, \"temperature\": temperature})\n",
    "\n",
    "    df = pd.DataFrame(data)\n",
    "    df[\"season\"] = df[\"timestamp\"].dt.month.map(lambda x: month_to_season[x])\n",
    "    return df\n",
    "\n",
    "\n",
    "# Генерация данных\n",
    "data = generate_realistic_temperature_data(list(seasonal_temperatures.keys()))\n",
    "data.to_csv(\"data/temperature_data.csv\", index=False)"
   ],
   "outputs": [],
   "execution_count": 5
  },
  {
   "cell_type": "code",
   "metadata": {
    "ExecuteTime": {
     "end_time": "2024-12-22T15:32:26.839732Z",
     "start_time": "2024-12-22T15:32:26.722014Z"
    }
   },
   "source": [
    "df = pd.read_csv(\"data/temperature_data.csv\")"
   ],
   "outputs": [],
   "execution_count": 7
  },
  {
   "cell_type": "code",
   "metadata": {
    "ExecuteTime": {
     "end_time": "2024-12-22T15:32:29.466601Z",
     "start_time": "2024-12-22T15:32:29.432062Z"
    }
   },
   "source": [
    "df.head()"
   ],
   "outputs": [
    {
     "data": {
      "text/plain": [
       "       city   timestamp  temperature  season\n",
       "0  New York  2010-01-01    -1.177655  winter\n",
       "1  New York  2010-01-02    -4.692483  winter\n",
       "2  New York  2010-01-03     4.375673  winter\n",
       "3  New York  2010-01-04    -2.249822  winter\n",
       "4  New York  2010-01-05    -0.193305  winter"
      ],
      "text/html": [
       "<div>\n",
       "<style scoped>\n",
       "    .dataframe tbody tr th:only-of-type {\n",
       "        vertical-align: middle;\n",
       "    }\n",
       "\n",
       "    .dataframe tbody tr th {\n",
       "        vertical-align: top;\n",
       "    }\n",
       "\n",
       "    .dataframe thead th {\n",
       "        text-align: right;\n",
       "    }\n",
       "</style>\n",
       "<table border=\"1\" class=\"dataframe\">\n",
       "  <thead>\n",
       "    <tr style=\"text-align: right;\">\n",
       "      <th></th>\n",
       "      <th>city</th>\n",
       "      <th>timestamp</th>\n",
       "      <th>temperature</th>\n",
       "      <th>season</th>\n",
       "    </tr>\n",
       "  </thead>\n",
       "  <tbody>\n",
       "    <tr>\n",
       "      <th>0</th>\n",
       "      <td>New York</td>\n",
       "      <td>2010-01-01</td>\n",
       "      <td>-1.177655</td>\n",
       "      <td>winter</td>\n",
       "    </tr>\n",
       "    <tr>\n",
       "      <th>1</th>\n",
       "      <td>New York</td>\n",
       "      <td>2010-01-02</td>\n",
       "      <td>-4.692483</td>\n",
       "      <td>winter</td>\n",
       "    </tr>\n",
       "    <tr>\n",
       "      <th>2</th>\n",
       "      <td>New York</td>\n",
       "      <td>2010-01-03</td>\n",
       "      <td>4.375673</td>\n",
       "      <td>winter</td>\n",
       "    </tr>\n",
       "    <tr>\n",
       "      <th>3</th>\n",
       "      <td>New York</td>\n",
       "      <td>2010-01-04</td>\n",
       "      <td>-2.249822</td>\n",
       "      <td>winter</td>\n",
       "    </tr>\n",
       "    <tr>\n",
       "      <th>4</th>\n",
       "      <td>New York</td>\n",
       "      <td>2010-01-05</td>\n",
       "      <td>-0.193305</td>\n",
       "      <td>winter</td>\n",
       "    </tr>\n",
       "  </tbody>\n",
       "</table>\n",
       "</div>"
      ]
     },
     "execution_count": 8,
     "metadata": {},
     "output_type": "execute_result"
    }
   ],
   "execution_count": 8
  },
  {
   "cell_type": "code",
   "metadata": {
    "ExecuteTime": {
     "end_time": "2024-12-22T15:32:34.238694Z",
     "start_time": "2024-12-22T15:32:30.879204Z"
    }
   },
   "source": [
    "from sklearn.linear_model import LinearRegression\n",
    "import time\n",
    "\n",
    "\n",
    "def heavy_func(city, df=df):\n",
    "    new_df = df[df[\"city\"] == city].copy()\n",
    "    new_df[\"timestamp\"] = pd.to_datetime(new_df[\"timestamp\"])\n",
    "\n",
    "    new_df.set_index(\"timestamp\", inplace=True)\n",
    "    new_df[\"MA\"] = new_df[\"temperature\"].rolling(window=\"30D\", min_periods=1).mean()\n",
    "    new_df[\"std\"] = new_df[\"temperature\"].rolling(window=\"30D\", min_periods=1).std()\n",
    "    new_df[\"anomaly\"] = np.where(\n",
    "        np.abs(new_df[\"temperature\"])\n",
    "        > np.abs(new_df[\"MA\"]) + np.abs(2 * new_df[\"std\"]),\n",
    "        1,\n",
    "        0,\n",
    "    )\n",
    "\n",
    "    season_df = df[df[\"city\"] == city].copy()\n",
    "    season_profile = (\n",
    "        season_df.groupby(\"season\")[\"temperature\"]\n",
    "        .agg(average=\"mean\", std=\"std\")\n",
    "        .reset_index()\n",
    "    )\n",
    "\n",
    "    trend_df = df[df[\"city\"] == city].copy()\n",
    "    trend_df[\"timestamp\"] = pd.to_datetime(trend_df[\"timestamp\"])\n",
    "    timestamps_numeric = (\n",
    "        (trend_df[\"timestamp\"] - trend_df[\"timestamp\"].min()).dt.total_seconds()\n",
    "        / 60\n",
    "        / 60\n",
    "        / 24\n",
    "    ).values.reshape(-1, 1)\n",
    "    temperatures = trend_df[\"temperature\"].values.reshape(-1, 1)\n",
    "\n",
    "    model = LinearRegression()\n",
    "    model.fit(timestamps_numeric, temperatures)\n",
    "\n",
    "    if model.coef_[0, 0] > 0:\n",
    "        trend = \"Positive\"\n",
    "    else:\n",
    "        trend = \"Negative\"\n",
    "\n",
    "    avg_temp = new_df[\"temperature\"].mean()\n",
    "    min_temp = new_df[\"temperature\"].min()\n",
    "    max_temp = new_df[\"temperature\"].max()\n",
    "    anomaly_df = df[df[\"city\"] == city].copy()\n",
    "\n",
    "    anomaly_df = anomaly_df.merge(season_profile, on=\"season\", how=\"left\")\n",
    "    anomaly_df[\"is_anomaly\"] = (\n",
    "        anomaly_df[\"temperature\"] > anomaly_df[\"average\"] + 2 * anomaly_df[\"std\"]\n",
    "    ) | (anomaly_df[\"temperature\"] < anomaly_df[\"average\"] - 2 * anomaly_df[\"std\"])\n",
    "\n",
    "    anomaly_points = anomaly_df[anomaly_df[\"is_anomaly\"] == 1]\n",
    "    return (\n",
    "        city,\n",
    "        avg_temp,\n",
    "        min_temp,\n",
    "        max_temp,\n",
    "        new_df[\"MA\"].values.reshape(-1, 1),\n",
    "        new_df[\"std\"].values.reshape(-1, 1),\n",
    "        season_profile,\n",
    "        trend,\n",
    "        anomaly_points,\n",
    "    )"
   ],
   "outputs": [],
   "execution_count": 9
  },
  {
   "cell_type": "code",
   "metadata": {
    "ExecuteTime": {
     "end_time": "2024-12-22T15:32:34.871159Z",
     "start_time": "2024-12-22T15:32:34.255517Z"
    }
   },
   "source": [
    "start_time = time.time()\n",
    "for city in seasonal_temperatures.keys():\n",
    "    heavy_func(city, df)\n",
    "\n",
    "end_time = time.time()\n",
    "print(f\"Время выполнения: {end_time - start_time:.2f} секунд\")"
   ],
   "outputs": [
    {
     "name": "stdout",
     "output_type": "stream",
     "text": [
      "Время выполнения: 0.61 секунд\n"
     ]
    }
   ],
   "execution_count": 10
  },
  {
   "cell_type": "code",
   "metadata": {
    "ExecuteTime": {
     "end_time": "2024-12-22T15:32:35.946274Z",
     "start_time": "2024-12-22T15:32:34.906313Z"
    }
   },
   "source": [
    "from concurrent.futures import ThreadPoolExecutor\n",
    "import itertools\n",
    "\n",
    "start_time = time.time()\n",
    "with ThreadPoolExecutor() as executor:\n",
    "    res = list(\n",
    "        executor.map(heavy_func, seasonal_temperatures.keys(), itertools.repeat(df))\n",
    "    )\n",
    "end_time = time.time()\n",
    "print(f\"Время выполнения: {end_time - start_time:.2f} секунд\")"
   ],
   "outputs": [
    {
     "name": "stdout",
     "output_type": "stream",
     "text": [
      "Время выполнения: 1.02 секунд\n"
     ]
    }
   ],
   "execution_count": 11
  },
  {
   "cell_type": "code",
   "metadata": {
    "ExecuteTime": {
     "end_time": "2024-12-22T15:32:36.028980Z",
     "start_time": "2024-12-22T15:32:35.999287Z"
    }
   },
   "source": [
    "def heavy_func_mproc(city_df):\n",
    "    import pandas as pd\n",
    "    import numpy as np\n",
    "    from sklearn.linear_model import LinearRegression\n",
    "\n",
    "    city, df = city_df\n",
    "    new_df = df[df[\"city\"] == city].copy()\n",
    "    new_df[\"timestamp\"] = pd.to_datetime(new_df[\"timestamp\"])\n",
    "\n",
    "    new_df.set_index(\"timestamp\", inplace=True)\n",
    "    new_df[\"MA\"] = new_df[\"temperature\"].rolling(window=\"30D\", min_periods=1).mean()\n",
    "    new_df[\"std\"] = new_df[\"temperature\"].rolling(window=\"30D\", min_periods=1).std()\n",
    "    new_df[\"anomaly\"] = np.where(\n",
    "        np.abs(new_df[\"temperature\"])\n",
    "        > np.abs(new_df[\"MA\"]) + np.abs(2 * new_df[\"std\"]),\n",
    "        1,\n",
    "        0,\n",
    "    )\n",
    "\n",
    "    season_df = df[df[\"city\"] == city].copy()\n",
    "    season_profile = (\n",
    "        season_df.groupby(\"season\")[\"temperature\"]\n",
    "        .agg(average=\"mean\", std=\"std\")\n",
    "        .reset_index()\n",
    "    )\n",
    "\n",
    "    trend_df = df[df[\"city\"] == city].copy()\n",
    "    trend_df[\"timestamp\"] = pd.to_datetime(trend_df[\"timestamp\"])\n",
    "    timestamps_numeric = (\n",
    "        (trend_df[\"timestamp\"] - trend_df[\"timestamp\"].min()).dt.total_seconds()\n",
    "        / 60\n",
    "        / 60\n",
    "        / 24\n",
    "    ).values.reshape(-1, 1)\n",
    "    temperatures = trend_df[\"temperature\"].values.reshape(-1, 1)\n",
    "\n",
    "    model = LinearRegression()\n",
    "    model.fit(timestamps_numeric, temperatures)\n",
    "\n",
    "    if model.coef_[0, 0] > 0:\n",
    "        trend = \"Positive\"\n",
    "    else:\n",
    "        trend = \"Negative\"\n",
    "\n",
    "    avg_temp = new_df[\"temperature\"].mean()\n",
    "    min_temp = new_df[\"temperature\"].min()\n",
    "    max_temp = new_df[\"temperature\"].max()\n",
    "    anomaly_df = df[df[\"city\"] == city].copy()\n",
    "\n",
    "    anomaly_df = anomaly_df.merge(season_profile, on=\"season\", how=\"left\")\n",
    "    anomaly_df[\"is_anomaly\"] = (\n",
    "        anomaly_df[\"temperature\"] > anomaly_df[\"average\"] + 2 * anomaly_df[\"std\"]\n",
    "    ) | (anomaly_df[\"temperature\"] < anomaly_df[\"average\"] - 2 * anomaly_df[\"std\"])\n",
    "\n",
    "    anomaly_points = anomaly_df[anomaly_df[\"is_anomaly\"] == 1]\n",
    "    return (\n",
    "        city,\n",
    "        avg_temp,\n",
    "        min_temp,\n",
    "        max_temp,\n",
    "        new_df[\"MA\"].values.reshape(-1, 1),\n",
    "        new_df[\"std\"].values.reshape(-1, 1),\n",
    "        season_profile,\n",
    "        trend,\n",
    "        anomaly_points,\n",
    "    )"
   ],
   "outputs": [],
   "execution_count": 12
  },
  {
   "cell_type": "code",
   "metadata": {
    "ExecuteTime": {
     "end_time": "2024-12-22T15:32:58.904404Z",
     "start_time": "2024-12-22T15:32:36.100643Z"
    }
   },
   "source": [
    "from multiprocess import Pool, cpu_count\n",
    "\n",
    "if __name__ == \"__main__\":\n",
    "    start_time = time.time()\n",
    "    num_workers = cpu_count()\n",
    "\n",
    "    with Pool(processes=8) as pool:\n",
    "        results = pool.map(\n",
    "            heavy_func_mproc, [(city, df) for city in seasonal_temperatures.keys()]\n",
    "        )\n",
    "    end_time = time.time()\n",
    "    print(f\"Время выполнения: {end_time - start_time:.2f} секунд\")"
   ],
   "outputs": [
    {
     "name": "stdout",
     "output_type": "stream",
     "text": [
      "Время выполнения: 22.78 секунд\n"
     ]
    }
   ],
   "execution_count": 13
  },
  {
   "metadata": {},
   "cell_type": "markdown",
   "source": [
    "При исследовании возможности распараллеливания работы основной \"тяжелой функции\", было выявлено, что быстрее всего работает просто при последовательных операциях, так как создание процессов или потоков выходит дороже\n",
    "Для мультипроцессорности была выбрана библиотека multiprocess, она подстроена над библиотекой multiprocessing, но позволяет обрабатывать более сложные типы данных, например DataFrame при помощи dill"
   ]
  },
  {
   "cell_type": "code",
   "metadata": {
    "ExecuteTime": {
     "end_time": "2024-12-22T15:32:58.983083Z",
     "start_time": "2024-12-22T15:32:58.956447Z"
    }
   },
   "source": [
    "api = \"***\""
   ],
   "outputs": [],
   "execution_count": 14
  },
  {
   "cell_type": "code",
   "execution_count": 13,
   "metadata": {},
   "outputs": [],
   "source": [
    "import requests\n",
    "from datetime import datetime"
   ]
  },
  {
   "cell_type": "code",
   "execution_count": 14,
   "metadata": {},
   "outputs": [],
   "source": [
    "def is_normal(city, api_key):\n",
    "    response = requests.get(\n",
    "        f\"https://api.openweathermap.org/data/2.5/weather?q={city}&appid={api_key}\"\n",
    "    )\n",
    "    data = response.json()\n",
    "    if response.status_code == 401:\n",
    "        return None, data\n",
    "    t = data[\"main\"][\"temp\"] - 273.15\n",
    "    _, _, _, _, _, _, season_profile, _, _ = heavy_func(city)\n",
    "    season = month_to_season[datetime.now().month]\n",
    "    avg = season_profile[season_profile[\"season\"] == season][\"average\"].values\n",
    "    std = season_profile[season_profile[\"season\"] == season][\"std\"].values\n",
    "\n",
    "    if (t > avg + 2 * std) | (t < avg - 2 * std):\n",
    "        return t, \"Anomaly temp\"\n",
    "    else:\n",
    "        return t, \"Norm temp\""
   ]
  },
  {
   "cell_type": "code",
   "execution_count": 15,
   "metadata": {},
   "outputs": [
    {
     "name": "stdout",
     "output_type": "stream",
     "text": [
      "Время выполнения: 6.89 секунд\n"
     ]
    }
   ],
   "source": [
    "start_time = time.time()\n",
    "for city in seasonal_temperatures.keys():\n",
    "    is_normal(city, api)\n",
    "end_time = time.time()\n",
    "print(f\"Время выполнения: {end_time - start_time:.2f} секунд\")"
   ]
  },
  {
   "cell_type": "code",
   "execution_count": 16,
   "metadata": {},
   "outputs": [],
   "source": [
    "import aiohttp\n",
    "\n",
    "\n",
    "async def is_normal_async(city, api_key):\n",
    "    async with aiohttp.ClientSession() as session:\n",
    "        url = (\n",
    "            f\"https://api.openweathermap.org/data/2.5/weather?q={city}&appid={api_key}\"\n",
    "        )\n",
    "        async with session.get(url) as response:\n",
    "            data = await response.json()\n",
    "            if response.status == 401:\n",
    "                return None, data\n",
    "\n",
    "            t = data[\"main\"][\"temp\"] - 273.15\n",
    "\n",
    "            _, _, _, _, _, _, season_profile, _, _ = heavy_func(city)\n",
    "            season = month_to_season[datetime.now().month]\n",
    "            avg = season_profile[season_profile[\"season\"] == season][\"average\"].values[\n",
    "                0\n",
    "            ]\n",
    "            std = season_profile[season_profile[\"season\"] == season][\"std\"].values[0]\n",
    "\n",
    "            if (t > avg + 2 * std) | (t < avg - 2 * std):\n",
    "                return t, \"Anomaly temp\"\n",
    "            else:\n",
    "                return t, \"Normal temp\""
   ]
  },
  {
   "cell_type": "code",
   "metadata": {
    "ExecuteTime": {
     "end_time": "2024-12-22T15:31:52.344648300Z",
     "start_time": "2024-12-22T15:30:15.810610Z"
    }
   },
   "source": [
    "import nest_asyncio\n",
    "\n",
    "nest_asyncio.apply()"
   ],
   "outputs": [],
   "execution_count": 3
  },
  {
   "cell_type": "code",
   "execution_count": 19,
   "metadata": {},
   "outputs": [
    {
     "name": "stdout",
     "output_type": "stream",
     "text": [
      "Время выполнения: 1.29 секунд\n"
     ]
    }
   ],
   "source": [
    "import time\n",
    "import asyncio\n",
    "\n",
    "start_time = time.time()\n",
    "loop = asyncio.get_event_loop()\n",
    "tasks = [is_normal_async(city, api) for city in seasonal_temperatures.keys()]\n",
    "results = loop.run_until_complete(asyncio.gather(*tasks))\n",
    "end_time = time.time()\n",
    "print(f\"Время выполнения: {end_time - start_time:.2f} секунд\")"
   ]
  },
  {
   "metadata": {},
   "cell_type": "markdown",
   "source": "При исследовании эффективности асинхронных запросов к WeatherAPI, можно заметить, что асинхронности быстрее в 6 раз"
  }
 ],
 "metadata": {
  "colab": {
   "provenance": []
  },
  "kernelspec": {
   "display_name": "Python 3 (ipykernel)",
   "language": "python",
   "name": "python3"
  },
  "language_info": {
   "codemirror_mode": {
    "name": "ipython",
    "version": 3
   },
   "file_extension": ".py",
   "mimetype": "text/x-python",
   "name": "python",
   "nbconvert_exporter": "python",
   "pygments_lexer": "ipython3",
   "version": "3.12.8"
  }
 },
 "nbformat": 4,
 "nbformat_minor": 4
}
